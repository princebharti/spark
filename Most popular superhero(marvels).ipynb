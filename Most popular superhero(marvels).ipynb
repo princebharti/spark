{
 "cells": [
  {
   "cell_type": "code",
   "execution_count": 1,
   "metadata": {
    "collapsed": true
   },
   "outputs": [],
   "source": [
    "import findspark\n",
    "findspark.init()\n",
    "\n",
    "from pyspark import SparkConf,SparkContext\n",
    "conf=SparkConf().setMaster('local').setAppName('most-popular-superhero')\n",
    "sc=SparkContext(conf=conf)\n",
    "\n"
   ]
  },
  {
   "cell_type": "code",
   "execution_count": 17,
   "metadata": {
    "collapsed": true
   },
   "outputs": [],
   "source": [
    "def lookUpTable():\n",
    "    dic=dict()\n",
    "    with open(\"/Users/Prince.Bharti/Desktop/data/spark-course/Marvel-Names.txt\",encoding='latin-1') as file:\n",
    "        for line in file:\n",
    "            li=line.partition(' ')\n",
    "            dic[li[0]]=li[2].split('\\n')[0]\n",
    "    return dic"
   ]
  },
  {
   "cell_type": "code",
   "execution_count": 26,
   "metadata": {},
   "outputs": [],
   "source": [
    "broadcast_variable=sc.broadcast(lookUpTable())\n",
    "base_rdd=sc.textFile(\"file:///Users/Prince.Bharti/Desktop/data/spark-course/Marvel-Graph.txt\")\n",
    "cleaned_rdd=base_rdd.map(lambda element: (element.split()[0],len(element.split())-1))\n",
    "reduced_rdd=cleaned_rdd.reduceByKey(lambda x,y:x+y)\n",
    "flipped_rdd=reduced_rdd.map(lambda element:(element[1],element[0]))\n",
    "sorted_result=flipped_rdd.sortByKey(ascending=False)\n",
    "result=sorted_result.map(lambda element:(broadcast_variable.value[element[1]],element[0])).collect()\n",
    "\n"
   ]
  },
  {
   "cell_type": "code",
   "execution_count": 28,
   "metadata": {},
   "outputs": [
    {
     "name": "stdout",
     "output_type": "stream",
     "text": [
      "most popular superhero is \"CAPTAIN AMERICA\" , with 1933 co-appearances\n"
     ]
    }
   ],
   "source": [
    "print(\"most popular superhero is {} , with {} co-appearances\".format(result[0][0],result[0][1]))"
   ]
  },
  {
   "cell_type": "code",
   "execution_count": null,
   "metadata": {
    "collapsed": true
   },
   "outputs": [],
   "source": []
  }
 ],
 "metadata": {
  "kernelspec": {
   "display_name": "Python 3",
   "language": "python",
   "name": "python3"
  },
  "language_info": {
   "codemirror_mode": {
    "name": "ipython",
    "version": 3
   },
   "file_extension": ".py",
   "mimetype": "text/x-python",
   "name": "python",
   "nbconvert_exporter": "python",
   "pygments_lexer": "ipython3",
   "version": "3.6.3"
  }
 },
 "nbformat": 4,
 "nbformat_minor": 2
}

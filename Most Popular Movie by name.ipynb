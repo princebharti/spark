{
 "cells": [
  {
   "cell_type": "code",
   "execution_count": null,
   "metadata": {
    "collapsed": true
   },
   "outputs": [],
   "source": [
    "import findspark\n",
    "findspark.init()\n",
    "\n",
    "from pyspark import SparkConf,SparkContext\n",
    "conf=SparkConf().setMaster('local').setAppName('most-popular-movie')\n",
    "sc=SparkContext(conf=conf)"
   ]
  },
  {
   "cell_type": "code",
   "execution_count": null,
   "metadata": {
    "collapsed": true
   },
   "outputs": [],
   "source": [
    "base_rdd=sc.textFile(\"file:///Users/Prince.Bharti/Desktop/data/spark-course/ml-100k/u.data\")\n",
    "cleaned_rdd=base_rdd.map(lambda element:(int(element.split('\\t')[1]),int(element.split('\\t')[2])))\n",
    "result_rdd=cleaned_rdd.reduceByKey(lambda value1,value2:value1+value2)\n",
    "flipped_rdd=result_rdd.map(lambda element:(element[1],element[0]))\n",
    "sorted_flipped_rdd=flipped_rdd.sortByKey(ascending=False)\n",
    "movies_result=sorted_flipped_rdd.collect()\n",
    "\n",
    "for rating,movie_id in movies_result:\n",
    "    print(movie_id,rating)\n"
   ]
  }
 ],
 "metadata": {
  "kernelspec": {
   "display_name": "Python 3",
   "language": "python",
   "name": "python3"
  },
  "language_info": {
   "codemirror_mode": {
    "name": "ipython",
    "version": 3
   },
   "file_extension": ".py",
   "mimetype": "text/x-python",
   "name": "python",
   "nbconvert_exporter": "python",
   "pygments_lexer": "ipython3",
   "version": "3.6.3"
  }
 },
 "nbformat": 4,
 "nbformat_minor": 2
}

{
 "cells": [
  {
   "cell_type": "code",
   "execution_count": 1,
   "metadata": {
    "collapsed": true
   },
   "outputs": [],
   "source": [
    "import findspark\n",
    "findspark.init()\n",
    "\n",
    "from pyspark import SparkConf,SparkContext\n",
    "conf=SparkConf().setMaster(\"local\").setAppName('minimum-temperature')\n",
    "sc=SparkContext(conf=conf)"
   ]
  },
  {
   "cell_type": "code",
   "execution_count": 2,
   "metadata": {
    "collapsed": true
   },
   "outputs": [],
   "source": [
    "base_rdd=sc.textFile(\"file:///Users/Prince.Bharti/Desktop/data/spark-course/1800.csv.xls\")"
   ]
  },
  {
   "cell_type": "code",
   "execution_count": 9,
   "metadata": {},
   "outputs": [],
   "source": [
    "def func(element):\n",
    "    li=element.split(',')\n",
    "    station=li[0]\n",
    "    temperature_type=li[2]\n",
    "    temperature=float(li[3]) * 0.1 * (9.0 / 5.0) + 32.0\n",
    "    return (station,temperature_type,temperature)\n",
    "    \n",
    "    "
   ]
  },
  {
   "cell_type": "code",
   "execution_count": 10,
   "metadata": {},
   "outputs": [],
   "source": [
    "rdd=base_rdd.map(func)"
   ]
  },
  {
   "cell_type": "code",
   "execution_count": 12,
   "metadata": {},
   "outputs": [],
   "source": [
    "filterd_rdd=rdd.filter(lambda element:element[1]=='TMIN')"
   ]
  },
  {
   "cell_type": "code",
   "execution_count": 14,
   "metadata": {},
   "outputs": [],
   "source": [
    "station_temperature_rdd=filterd_rdd.map(lambda element:(element[0],element[2]))"
   ]
  },
  {
   "cell_type": "code",
   "execution_count": 17,
   "metadata": {
    "collapsed": true
   },
   "outputs": [],
   "source": [
    "result_rdd=station_temperature_rdd.reduceByKey(lambda value1,value2:min(value1,value2))"
   ]
  },
  {
   "cell_type": "code",
   "execution_count": 31,
   "metadata": {},
   "outputs": [
    {
     "name": "stdout",
     "output_type": "stream",
     "text": [
      "for station EZE00100082, minimun temperature was 7.70 degree farhenheight\n",
      "for station ITE00100554, minimun temperature was 5.36 degree farhenheight\n"
     ]
    }
   ],
   "source": [
    "result_rdd=result_rdd.sortByKey()\n",
    "for station,min_temp in result_rdd.collect():\n",
    "    print(\"for station {}, minimun temperature was {:.2f} degree farhenheight\".format(station,float(min_temp)))"
   ]
  },
  {
   "cell_type": "code",
   "execution_count": null,
   "metadata": {
    "collapsed": true
   },
   "outputs": [],
   "source": []
  }
 ],
 "metadata": {
  "kernelspec": {
   "display_name": "Python 3",
   "language": "python",
   "name": "python3"
  },
  "language_info": {
   "codemirror_mode": {
    "name": "ipython",
    "version": 3
   },
   "file_extension": ".py",
   "mimetype": "text/x-python",
   "name": "python",
   "nbconvert_exporter": "python",
   "pygments_lexer": "ipython3",
   "version": "3.6.3"
  }
 },
 "nbformat": 4,
 "nbformat_minor": 2
}

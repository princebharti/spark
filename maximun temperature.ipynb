{
 "cells": [
  {
   "cell_type": "code",
   "execution_count": 1,
   "metadata": {},
   "outputs": [
    {
     "name": "stdout",
     "output_type": "stream",
     "text": [
      "for station EZE00100082, maximum temperature was 90.14 degree farhenheight\n",
      "for station ITE00100554, maximum temperature was 90.14 degree farhenheight\n"
     ]
    }
   ],
   "source": [
    "import findspark\n",
    "findspark.init()\n",
    "\n",
    "from pyspark import SparkConf,SparkContext\n",
    "conf=SparkConf().setMaster(\"local\").setAppName('minimum-temperature')\n",
    "sc=SparkContext(conf=conf)\n",
    "base_rdd=sc.textFile(\"file:///Users/Prince.Bharti/Desktop/data/spark-course/1800.csv.xls\")\n",
    "def func(element):\n",
    "    li=element.split(',')\n",
    "    station=li[0]\n",
    "    temperature_type=li[2]\n",
    "    temperature=float(li[3]) * 0.1 * (9.0 / 5.0) + 32.0\n",
    "    return (station,temperature_type,temperature)\n",
    "rdd=base_rdd.map(func)\n",
    "filterd_rdd=rdd.filter(lambda element:element[1]=='TMAX')\n",
    "station_temperature_rdd=filterd_rdd.map(lambda element:(element[0],element[2]))\n",
    "result_rdd=station_temperature_rdd.reduceByKey(lambda value1,value2:max(value1,value2))\n",
    "result_rdd=result_rdd.sortByKey()\n",
    "for station,max_temp in result_rdd.collect():\n",
    "    print(\"for station {}, maximum temperature was {:.2f} degree farhenheight\".format(station,float(max_temp)))"
   ]
  },
  {
   "cell_type": "code",
   "execution_count": null,
   "metadata": {
    "collapsed": true
   },
   "outputs": [],
   "source": []
  }
 ],
 "metadata": {
  "kernelspec": {
   "display_name": "Python 3",
   "language": "python",
   "name": "python3"
  },
  "language_info": {
   "codemirror_mode": {
    "name": "ipython",
    "version": 3
   },
   "file_extension": ".py",
   "mimetype": "text/x-python",
   "name": "python",
   "nbconvert_exporter": "python",
   "pygments_lexer": "ipython3",
   "version": "3.6.3"
  }
 },
 "nbformat": 4,
 "nbformat_minor": 2
}

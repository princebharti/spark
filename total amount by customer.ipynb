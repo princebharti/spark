{
 "cells": [
  {
   "cell_type": "code",
   "execution_count": 2,
   "metadata": {},
   "outputs": [],
   "source": [
    "import findspark\n",
    "findspark.init()\n",
    "\n",
    "from pyspark import SparkConf,SparkContext\n",
    "conf=SparkConf().setMaster('local').setAppName('total-amount-by-customer')\n",
    "sc=SparkContext(conf=conf)"
   ]
  },
  {
   "cell_type": "code",
   "execution_count": 17,
   "metadata": {},
   "outputs": [
    {
     "name": "stdout",
     "output_type": "stream",
     "text": [
      "customer id :44  amount 4756.89$\n",
      "customer id :35  amount 5155.42$\n",
      "customer id :2  amount 5994.59$\n",
      "customer id :47  amount 4316.30$\n",
      "customer id :29  amount 5032.53$\n",
      "customer id :91  amount 4642.26$\n",
      "customer id :70  amount 5368.25$\n",
      "customer id :85  amount 5503.43$\n",
      "customer id :53  amount 4945.30$\n",
      "customer id :14  amount 4735.03$\n",
      "customer id :51  amount 4975.22$\n",
      "customer id :42  amount 5696.84$\n",
      "customer id :79  amount 3790.57$\n",
      "customer id :50  amount 4517.27$\n",
      "customer id :20  amount 4836.86$\n",
      "customer id :15  amount 5413.51$\n",
      "customer id :5  amount 4561.07$\n",
      "customer id :48  amount 4384.33$\n",
      "customer id :31  amount 4765.05$\n",
      "customer id :4  amount 4815.05$\n",
      "customer id :36  amount 4278.05$\n",
      "customer id :57  amount 4628.40$\n",
      "customer id :12  amount 4664.59$\n",
      "customer id :22  amount 5019.45$\n",
      "customer id :54  amount 6065.39$\n",
      "customer id :0  amount 5524.95$\n",
      "customer id :88  amount 4830.55$\n",
      "customer id :86  amount 4908.81$\n",
      "customer id :13  amount 4367.62$\n",
      "customer id :40  amount 5186.43$\n",
      "customer id :98  amount 4297.26$\n",
      "customer id :55  amount 5298.09$\n",
      "customer id :95  amount 4876.84$\n",
      "customer id :61  amount 5497.48$\n",
      "customer id :27  amount 4915.89$\n",
      "customer id :78  amount 4524.51$\n",
      "customer id :83  amount 4635.80$\n",
      "customer id :6  amount 5397.88$\n",
      "customer id :26  amount 5250.40$\n",
      "customer id :75  amount 4178.50$\n",
      "customer id :25  amount 5057.61$\n",
      "customer id :71  amount 5995.66$\n",
      "customer id :39  amount 6193.11$\n",
      "customer id :60  amount 5040.71$\n",
      "customer id :97  amount 5977.19$\n",
      "customer id :7  amount 4755.07$\n",
      "customer id :21  amount 4707.41$\n",
      "customer id :69  amount 5123.01$\n",
      "customer id :37  amount 4735.20$\n",
      "customer id :1  amount 4958.60$\n",
      "customer id :64  amount 5288.69$\n",
      "customer id :82  amount 4812.49$\n",
      "customer id :72  amount 5337.44$\n",
      "customer id :99  amount 4172.29$\n",
      "customer id :34  amount 5330.80$\n",
      "customer id :73  amount 6206.20$\n",
      "customer id :49  amount 4394.60$\n",
      "customer id :8  amount 5517.24$\n",
      "customer id :46  amount 5963.11$\n",
      "customer id :23  amount 4042.65$\n",
      "customer id :19  amount 5059.43$\n",
      "customer id :65  amount 5140.35$\n",
      "customer id :80  amount 4727.86$\n",
      "customer id :16  amount 4979.06$\n",
      "customer id :9  amount 5322.65$\n",
      "customer id :18  amount 4921.27$\n",
      "customer id :59  amount 5642.89$\n",
      "customer id :74  amount 4647.13$\n",
      "customer id :30  amount 4990.72$\n",
      "customer id :56  amount 4701.02$\n",
      "customer id :90  amount 5290.41$\n",
      "customer id :68  amount 6375.45$\n",
      "customer id :11  amount 5152.29$\n",
      "customer id :10  amount 4819.70$\n",
      "customer id :41  amount 5637.62$\n",
      "customer id :58  amount 5437.73$\n",
      "customer id :87  amount 5206.40$\n",
      "customer id :17  amount 5032.68$\n",
      "customer id :33  amount 5254.66$\n",
      "customer id :62  amount 5253.32$\n",
      "customer id :92  amount 5379.28$\n",
      "customer id :76  amount 4904.21$\n",
      "customer id :66  amount 4681.92$\n",
      "customer id :43  amount 5368.83$\n",
      "customer id :52  amount 5245.06$\n",
      "customer id :77  amount 4327.73$\n",
      "customer id :81  amount 5112.71$\n",
      "customer id :84  amount 4652.94$\n",
      "customer id :3  amount 4659.63$\n",
      "customer id :93  amount 5265.75$\n",
      "customer id :89  amount 4851.48$\n",
      "customer id :45  amount 3309.38$\n",
      "customer id :24  amount 5259.92$\n",
      "customer id :96  amount 3924.23$\n",
      "customer id :67  amount 4505.79$\n",
      "customer id :63  amount 5415.15$\n",
      "customer id :94  amount 4475.57$\n",
      "customer id :32  amount 5496.05$\n",
      "customer id :38  amount 4898.46$\n",
      "customer id :28  amount 5000.71$\n"
     ]
    }
   ],
   "source": [
    "base_rdd=sc.textFile(\"file:///Users/Prince.Bharti/Desktop/data/spark-course/customer-orders.csv\")\n",
    "rdd=base_rdd.map(lambda element:(element.split(',')[0],float(element.split(',')[2])))\n",
    "result_rdd=rdd.reduceByKey(lambda value1,value2: value1+value2)\n",
    "result=result_rdd.collect()\n",
    "\n",
    "for customer,total_amount in result:\n",
    "    print(\"customer id :{}  amount {:.2f}$\".format(customer,total_amount))\n",
    "\n",
    "\n"
   ]
  },
  {
   "cell_type": "code",
   "execution_count": 12,
   "metadata": {},
   "outputs": [
    {
     "data": {
      "text/plain": [
       "PythonRDD[38] at RDD at PythonRDD.scala:48"
      ]
     },
     "execution_count": 12,
     "metadata": {},
     "output_type": "execute_result"
    }
   ],
   "source": []
  },
  {
   "cell_type": "code",
   "execution_count": null,
   "metadata": {
    "collapsed": true
   },
   "outputs": [],
   "source": []
  }
 ],
 "metadata": {
  "kernelspec": {
   "display_name": "Python 3",
   "language": "python",
   "name": "python3"
  },
  "language_info": {
   "codemirror_mode": {
    "name": "ipython",
    "version": 3
   },
   "file_extension": ".py",
   "mimetype": "text/x-python",
   "name": "python",
   "nbconvert_exporter": "python",
   "pygments_lexer": "ipython3",
   "version": "3.6.3"
  }
 },
 "nbformat": 4,
 "nbformat_minor": 2
}

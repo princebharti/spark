{
 "cells": [
  {
   "cell_type": "code",
   "execution_count": 1,
   "metadata": {
    "collapsed": true
   },
   "outputs": [],
   "source": [
    "import findspark\n",
    "findspark.init()"
   ]
  },
  {
   "cell_type": "code",
   "execution_count": 2,
   "metadata": {
    "collapsed": true
   },
   "outputs": [],
   "source": [
    "from pyspark.sql import SparkSession\n",
    "from pyspark.sql import Row"
   ]
  },
  {
   "cell_type": "code",
   "execution_count": 3,
   "metadata": {
    "collapsed": true
   },
   "outputs": [],
   "source": [
    "spark=SparkSession.builder.appName('total-cutomer-amount').getOrCreate()"
   ]
  },
  {
   "cell_type": "code",
   "execution_count": 7,
   "metadata": {},
   "outputs": [],
   "source": [
    "sc=spark.sparkContext"
   ]
  },
  {
   "cell_type": "code",
   "execution_count": 8,
   "metadata": {},
   "outputs": [],
   "source": [
    "base_rdd=sc.textFile(\"file:///Users/Prince.Bharti/Desktop/data/spark-course/customer-orders.csv\")\n"
   ]
  },
  {
   "cell_type": "code",
   "execution_count": 13,
   "metadata": {},
   "outputs": [],
   "source": [
    "def mapper(line):\n",
    "    li=line.split(',')\n",
    "    return Row(Id=li[0],amount=float(li[2]))"
   ]
  },
  {
   "cell_type": "code",
   "execution_count": 14,
   "metadata": {
    "collapsed": true
   },
   "outputs": [],
   "source": [
    "schema_rdd=base_rdd.map(mapper)"
   ]
  },
  {
   "cell_type": "code",
   "execution_count": 16,
   "metadata": {},
   "outputs": [],
   "source": [
    "df=spark.createDataFrame(schema_rdd)\n"
   ]
  },
  {
   "cell_type": "code",
   "execution_count": 22,
   "metadata": {
    "collapsed": true
   },
   "outputs": [],
   "source": [
    "result_df=df.groupBy('Id').sum('amount').withColumnRenamed('sum(amount)','total amount').orderBy('total amount')"
   ]
  },
  {
   "cell_type": "code",
   "execution_count": 23,
   "metadata": {},
   "outputs": [],
   "source": [
    "result=result_df.collect()"
   ]
  },
  {
   "cell_type": "code",
   "execution_count": 24,
   "metadata": {},
   "outputs": [
    {
     "name": "stdout",
     "output_type": "stream",
     "text": [
      "45  3309.38\n",
      "79  3790.57\n",
      "96  3924.23\n",
      "23  4042.65\n",
      "99  4172.29\n",
      "75  4178.50\n",
      "36  4278.05\n",
      "98  4297.26\n",
      "47  4316.30\n",
      "77  4327.73\n",
      "13  4367.62\n",
      "48  4384.33\n",
      "49  4394.60\n",
      "94  4475.57\n",
      "67  4505.79\n",
      "50  4517.27\n",
      "78  4524.51\n",
      "5  4561.07\n",
      "57  4628.40\n",
      "83  4635.80\n",
      "91  4642.26\n",
      "74  4647.13\n",
      "84  4652.94\n",
      "3  4659.63\n",
      "12  4664.59\n",
      "66  4681.92\n",
      "56  4701.02\n",
      "21  4707.41\n",
      "80  4727.86\n",
      "14  4735.03\n",
      "37  4735.20\n",
      "7  4755.07\n",
      "44  4756.89\n",
      "31  4765.05\n",
      "82  4812.49\n",
      "4  4815.05\n",
      "10  4819.70\n",
      "88  4830.55\n",
      "20  4836.86\n",
      "89  4851.48\n",
      "95  4876.84\n",
      "38  4898.46\n",
      "76  4904.21\n",
      "86  4908.81\n",
      "27  4915.89\n",
      "18  4921.27\n",
      "53  4945.30\n",
      "1  4958.60\n",
      "51  4975.22\n",
      "16  4979.06\n",
      "30  4990.72\n",
      "28  5000.71\n",
      "22  5019.45\n",
      "29  5032.53\n",
      "17  5032.68\n",
      "60  5040.71\n",
      "25  5057.61\n",
      "19  5059.43\n",
      "81  5112.71\n",
      "69  5123.01\n",
      "65  5140.35\n",
      "11  5152.29\n",
      "35  5155.42\n",
      "40  5186.43\n",
      "87  5206.40\n",
      "52  5245.06\n",
      "26  5250.40\n",
      "62  5253.32\n",
      "33  5254.66\n",
      "24  5259.92\n",
      "93  5265.75\n",
      "64  5288.69\n",
      "90  5290.41\n",
      "55  5298.09\n",
      "9  5322.65\n",
      "34  5330.80\n",
      "72  5337.44\n",
      "70  5368.25\n",
      "43  5368.83\n",
      "92  5379.28\n",
      "6  5397.88\n",
      "15  5413.51\n",
      "63  5415.15\n",
      "58  5437.73\n",
      "32  5496.05\n",
      "61  5497.48\n",
      "85  5503.43\n",
      "8  5517.24\n",
      "0  5524.95\n",
      "41  5637.62\n",
      "59  5642.89\n",
      "42  5696.84\n",
      "46  5963.11\n",
      "97  5977.19\n",
      "2  5994.59\n",
      "71  5995.66\n",
      "54  6065.39\n",
      "39  6193.11\n",
      "73  6206.20\n",
      "68  6375.45\n"
     ]
    }
   ],
   "source": [
    "for element in result:\n",
    "    print(\"{}  {:.2f}\".format(element[0],element[1]))"
   ]
  },
  {
   "cell_type": "code",
   "execution_count": null,
   "metadata": {
    "collapsed": true
   },
   "outputs": [],
   "source": []
  }
 ],
 "metadata": {
  "kernelspec": {
   "display_name": "Python 3",
   "language": "python",
   "name": "python3"
  },
  "language_info": {
   "codemirror_mode": {
    "name": "ipython",
    "version": 3
   },
   "file_extension": ".py",
   "mimetype": "text/x-python",
   "name": "python",
   "nbconvert_exporter": "python",
   "pygments_lexer": "ipython3",
   "version": "3.6.3"
  }
 },
 "nbformat": 4,
 "nbformat_minor": 2
}

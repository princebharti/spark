{
 "cells": [
  {
   "cell_type": "code",
   "execution_count": 116,
   "metadata": {
    "collapsed": true
   },
   "outputs": [],
   "source": [
    "import findspark\n",
    "findspark.init()"
   ]
  },
  {
   "cell_type": "code",
   "execution_count": 117,
   "metadata": {
    "collapsed": true
   },
   "outputs": [],
   "source": [
    "from pyspark.sql import SparkSession\n",
    "from pyspark.sql import Row"
   ]
  },
  {
   "cell_type": "code",
   "execution_count": 118,
   "metadata": {
    "collapsed": true
   },
   "outputs": [],
   "source": [
    "spark=SparkSession.builder.appName(\"spark-sql-applicaiton\").getOrCreate() # it gives both spark context as well as sql context\n"
   ]
  },
  {
   "cell_type": "code",
   "execution_count": 119,
   "metadata": {
    "collapsed": true
   },
   "outputs": [],
   "source": [
    "def mapper(element):\n",
    "    element=element.split(',')\n",
    "    return Row(ID=int(element[0]),name=element[1],age=int(element[2]),numFriends=int(element[3]))"
   ]
  },
  {
   "cell_type": "code",
   "execution_count": 120,
   "metadata": {
    "collapsed": true
   },
   "outputs": [],
   "source": [
    "sc=spark.sparkContext"
   ]
  },
  {
   "cell_type": "code",
   "execution_count": 121,
   "metadata": {},
   "outputs": [],
   "source": [
    "base_rdd=sc.textFile(\"file:///Users/Prince.Bharti/Desktop/data/spark-course/fakefriends.csv.xls\")"
   ]
  },
  {
   "cell_type": "code",
   "execution_count": 122,
   "metadata": {
    "collapsed": true
   },
   "outputs": [],
   "source": [
    "cleaned_rdd=base_rdd.map(mapper)"
   ]
  },
  {
   "cell_type": "code",
   "execution_count": 123,
   "metadata": {},
   "outputs": [],
   "source": [
    "df=spark.createDataFrame(cleaned_rdd)"
   ]
  },
  {
   "cell_type": "code",
   "execution_count": 124,
   "metadata": {},
   "outputs": [],
   "source": [
    "df=df.cache()"
   ]
  },
  {
   "cell_type": "code",
   "execution_count": 125,
   "metadata": {},
   "outputs": [],
   "source": [
    "df.createOrReplaceTempView('people')"
   ]
  },
  {
   "cell_type": "code",
   "execution_count": 133,
   "metadata": {},
   "outputs": [],
   "source": [
    "result=spark.sql(\"select * from people where age>=13 and age<=19\")"
   ]
  },
  {
   "cell_type": "code",
   "execution_count": 134,
   "metadata": {},
   "outputs": [
    {
     "data": {
      "text/plain": [
       "pyspark.sql.dataframe.DataFrame"
      ]
     },
     "execution_count": 134,
     "metadata": {},
     "output_type": "execute_result"
    }
   ],
   "source": [
    "type(result)"
   ]
  },
  {
   "cell_type": "code",
   "execution_count": 135,
   "metadata": {},
   "outputs": [],
   "source": [
    "result=result.collect()"
   ]
  },
  {
   "cell_type": "code",
   "execution_count": 136,
   "metadata": {},
   "outputs": [
    {
     "name": "stdout",
     "output_type": "stream",
     "text": [
      "Row(ID=21, age=19, name='Miles', numFriends=268)\n",
      "Row(ID=52, age=19, name='Beverly', numFriends=269)\n",
      "Row(ID=54, age=19, name='Brunt', numFriends=5)\n",
      "Row(ID=106, age=18, name='Beverly', numFriends=499)\n",
      "Row(ID=115, age=18, name='Dukat', numFriends=397)\n",
      "Row(ID=133, age=19, name='Quark', numFriends=265)\n",
      "Row(ID=136, age=19, name='Will', numFriends=335)\n",
      "Row(ID=225, age=19, name='Elim', numFriends=106)\n",
      "Row(ID=304, age=19, name='Will', numFriends=404)\n",
      "Row(ID=341, age=18, name='Data', numFriends=326)\n",
      "Row(ID=366, age=19, name='Keiko', numFriends=119)\n",
      "Row(ID=373, age=19, name='Quark', numFriends=272)\n",
      "Row(ID=377, age=18, name='Beverly', numFriends=418)\n",
      "Row(ID=404, age=18, name='Kasidy', numFriends=24)\n",
      "Row(ID=409, age=19, name='Nog', numFriends=267)\n",
      "Row(ID=439, age=18, name='Data', numFriends=417)\n",
      "Row(ID=444, age=18, name='Keiko', numFriends=472)\n",
      "Row(ID=492, age=19, name='Dukat', numFriends=36)\n",
      "Row(ID=494, age=18, name='Kasidy', numFriends=194)\n"
     ]
    }
   ],
   "source": [
    "for i in result:\n",
    "    print(i)"
   ]
  },
  {
   "cell_type": "code",
   "execution_count": 130,
   "metadata": {},
   "outputs": [],
   "source": [
    "re=df.groupBy('age').count().orderBy('age').collect()"
   ]
  },
  {
   "cell_type": "code",
   "execution_count": 131,
   "metadata": {},
   "outputs": [
    {
     "name": "stdout",
     "output_type": "stream",
     "text": [
      "Row(age=18, count=8)\n",
      "Row(age=19, count=11)\n",
      "Row(age=20, count=5)\n",
      "Row(age=21, count=8)\n",
      "Row(age=22, count=7)\n",
      "Row(age=23, count=10)\n",
      "Row(age=24, count=5)\n",
      "Row(age=25, count=11)\n",
      "Row(age=26, count=17)\n",
      "Row(age=27, count=8)\n",
      "Row(age=28, count=10)\n",
      "Row(age=29, count=12)\n",
      "Row(age=30, count=11)\n",
      "Row(age=31, count=8)\n",
      "Row(age=32, count=11)\n",
      "Row(age=33, count=12)\n",
      "Row(age=34, count=6)\n",
      "Row(age=35, count=8)\n",
      "Row(age=36, count=10)\n",
      "Row(age=37, count=9)\n",
      "Row(age=38, count=15)\n",
      "Row(age=39, count=7)\n",
      "Row(age=40, count=17)\n",
      "Row(age=41, count=9)\n",
      "Row(age=42, count=6)\n",
      "Row(age=43, count=7)\n",
      "Row(age=44, count=12)\n",
      "Row(age=45, count=13)\n",
      "Row(age=46, count=13)\n",
      "Row(age=47, count=9)\n",
      "Row(age=48, count=10)\n",
      "Row(age=49, count=6)\n",
      "Row(age=50, count=5)\n",
      "Row(age=51, count=7)\n",
      "Row(age=52, count=11)\n",
      "Row(age=53, count=7)\n",
      "Row(age=54, count=13)\n",
      "Row(age=55, count=13)\n",
      "Row(age=56, count=6)\n",
      "Row(age=57, count=12)\n",
      "Row(age=58, count=11)\n",
      "Row(age=59, count=9)\n",
      "Row(age=60, count=7)\n",
      "Row(age=61, count=9)\n",
      "Row(age=62, count=13)\n",
      "Row(age=63, count=4)\n",
      "Row(age=64, count=12)\n",
      "Row(age=65, count=5)\n",
      "Row(age=66, count=9)\n",
      "Row(age=67, count=16)\n",
      "Row(age=68, count=10)\n",
      "Row(age=69, count=10)\n"
     ]
    }
   ],
   "source": [
    "for i in re:\n",
    "    print(i)"
   ]
  },
  {
   "cell_type": "code",
   "execution_count": 132,
   "metadata": {},
   "outputs": [
    {
     "name": "stdout",
     "output_type": "stream",
     "text": [
      "+---+-----+\n",
      "|age|count|\n",
      "+---+-----+\n",
      "| 18|    8|\n",
      "| 19|   11|\n",
      "| 20|    5|\n",
      "| 21|    8|\n",
      "| 22|    7|\n",
      "| 23|   10|\n",
      "| 24|    5|\n",
      "| 25|   11|\n",
      "| 26|   17|\n",
      "| 27|    8|\n",
      "| 28|   10|\n",
      "| 29|   12|\n",
      "| 30|   11|\n",
      "| 31|    8|\n",
      "| 32|   11|\n",
      "| 33|   12|\n",
      "| 34|    6|\n",
      "| 35|    8|\n",
      "| 36|   10|\n",
      "| 37|    9|\n",
      "+---+-----+\n",
      "only showing top 20 rows\n",
      "\n"
     ]
    }
   ],
   "source": [
    "df.groupBy('age').count().orderBy('age').show()"
   ]
  },
  {
   "cell_type": "code",
   "execution_count": null,
   "metadata": {
    "collapsed": true
   },
   "outputs": [],
   "source": []
  },
  {
   "cell_type": "code",
   "execution_count": null,
   "metadata": {
    "collapsed": true
   },
   "outputs": [],
   "source": []
  }
 ],
 "metadata": {
  "kernelspec": {
   "display_name": "Python 3",
   "language": "python",
   "name": "python3"
  },
  "language_info": {
   "codemirror_mode": {
    "name": "ipython",
    "version": 3
   },
   "file_extension": ".py",
   "mimetype": "text/x-python",
   "name": "python",
   "nbconvert_exporter": "python",
   "pygments_lexer": "ipython3",
   "version": "3.6.3"
  }
 },
 "nbformat": 4,
 "nbformat_minor": 2
}

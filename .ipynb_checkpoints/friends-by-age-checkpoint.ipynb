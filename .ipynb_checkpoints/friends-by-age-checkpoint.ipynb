{
 "cells": [
  {
   "cell_type": "code",
   "execution_count": 1,
   "metadata": {
    "collapsed": true
   },
   "outputs": [],
   "source": [
    "import findspark\n",
    "findspark.init()"
   ]
  },
  {
   "cell_type": "code",
   "execution_count": 3,
   "metadata": {},
   "outputs": [],
   "source": [
    "from pyspark import SparkConf,SparkContext"
   ]
  },
  {
   "cell_type": "code",
   "execution_count": 172,
   "metadata": {
    "collapsed": true
   },
   "outputs": [],
   "source": [
    "conf=SparkConf().setMaster(\"local\").setAppName(\"friend-by-age\")"
   ]
  },
  {
   "cell_type": "code",
   "execution_count": 5,
   "metadata": {
    "collapsed": true
   },
   "outputs": [],
   "source": [
    "sc=SparkContext(conf=conf)"
   ]
  },
  {
   "cell_type": "code",
   "execution_count": 84,
   "metadata": {},
   "outputs": [],
   "source": [
    "base_rdd=sc.textFile(\"file:///Users/Prince.Bharti/Desktop/data/spark-course/fakefriends.csv.xls\")"
   ]
  },
  {
   "cell_type": "code",
   "execution_count": 110,
   "metadata": {},
   "outputs": [],
   "source": [
    "key_value_rdd=base_rdd.map(lambda element:(int(element.split(',')[2]),int(element.split(',')[3])))"
   ]
  },
  {
   "cell_type": "code",
   "execution_count": 112,
   "metadata": {
    "collapsed": true
   },
   "outputs": [],
   "source": [
    "rdd=key_value_rdd.mapValues(lambda x:(x,1))"
   ]
  },
  {
   "cell_type": "code",
   "execution_count": 116,
   "metadata": {},
   "outputs": [],
   "source": [
    "total_by_age=rdd.reduceByKey(lambda x,y:((x[0])+y[0],x[1]+y[1]))"
   ]
  },
  {
   "cell_type": "code",
   "execution_count": 158,
   "metadata": {},
   "outputs": [],
   "source": [
    "avg_total_by_age=total_by_age.mapValues(lambda x: x[0]/x[1])"
   ]
  },
  {
   "cell_type": "code",
   "execution_count": 176,
   "metadata": {
    "collapsed": true
   },
   "outputs": [],
   "source": [
    "result=avg_total_by_age.collect()"
   ]
  },
  {
   "cell_type": "code",
   "execution_count": 178,
   "metadata": {},
   "outputs": [
    {
     "name": "stdout",
     "output_type": "stream",
     "text": [
      "person with age of 18 has 343.375 friends\n",
      "person with age of 19 has 213.27272727272728 friends\n",
      "person with age of 20 has 165.0 friends\n",
      "person with age of 21 has 350.875 friends\n",
      "person with age of 22 has 206.42857142857142 friends\n",
      "person with age of 23 has 246.3 friends\n",
      "person with age of 24 has 233.8 friends\n",
      "person with age of 25 has 197.45454545454547 friends\n",
      "person with age of 26 has 242.05882352941177 friends\n",
      "person with age of 27 has 228.125 friends\n",
      "person with age of 28 has 209.1 friends\n",
      "person with age of 29 has 215.91666666666666 friends\n",
      "person with age of 30 has 235.8181818181818 friends\n",
      "person with age of 31 has 267.25 friends\n",
      "person with age of 32 has 207.9090909090909 friends\n",
      "person with age of 33 has 325.3333333333333 friends\n",
      "person with age of 34 has 245.5 friends\n",
      "person with age of 35 has 211.625 friends\n",
      "person with age of 36 has 246.6 friends\n",
      "person with age of 37 has 249.33333333333334 friends\n",
      "person with age of 38 has 193.53333333333333 friends\n",
      "person with age of 39 has 169.28571428571428 friends\n",
      "person with age of 40 has 250.8235294117647 friends\n",
      "person with age of 41 has 268.55555555555554 friends\n",
      "person with age of 42 has 303.5 friends\n",
      "person with age of 43 has 230.57142857142858 friends\n",
      "person with age of 44 has 282.1666666666667 friends\n",
      "person with age of 45 has 309.53846153846155 friends\n",
      "person with age of 46 has 223.69230769230768 friends\n",
      "person with age of 47 has 233.22222222222223 friends\n",
      "person with age of 48 has 281.4 friends\n",
      "person with age of 49 has 184.66666666666666 friends\n",
      "person with age of 50 has 254.6 friends\n",
      "person with age of 51 has 302.14285714285717 friends\n",
      "person with age of 52 has 340.6363636363636 friends\n",
      "person with age of 53 has 222.85714285714286 friends\n",
      "person with age of 54 has 278.0769230769231 friends\n",
      "person with age of 55 has 295.53846153846155 friends\n",
      "person with age of 56 has 306.6666666666667 friends\n",
      "person with age of 57 has 258.8333333333333 friends\n",
      "person with age of 58 has 116.54545454545455 friends\n",
      "person with age of 59 has 220.0 friends\n",
      "person with age of 60 has 202.71428571428572 friends\n",
      "person with age of 61 has 256.22222222222223 friends\n",
      "person with age of 62 has 220.76923076923077 friends\n",
      "person with age of 63 has 384.0 friends\n",
      "person with age of 64 has 281.3333333333333 friends\n",
      "person with age of 65 has 298.2 friends\n",
      "person with age of 66 has 276.44444444444446 friends\n",
      "person with age of 67 has 214.625 friends\n",
      "person with age of 68 has 269.6 friends\n",
      "person with age of 69 has 235.2 friends\n"
     ]
    }
   ],
   "source": [
    "for age,friend in sorted(result):\n",
    "    print(f'person with age of {age} has {friend} friends')"
   ]
  },
  {
   "cell_type": "code",
   "execution_count": null,
   "metadata": {
    "collapsed": true
   },
   "outputs": [],
   "source": []
  },
  {
   "cell_type": "code",
   "execution_count": null,
   "metadata": {
    "collapsed": true
   },
   "outputs": [],
   "source": []
  }
 ],
 "metadata": {
  "kernelspec": {
   "display_name": "Python 3",
   "language": "python",
   "name": "python3"
  },
  "language_info": {
   "codemirror_mode": {
    "name": "ipython",
    "version": 3
   },
   "file_extension": ".py",
   "mimetype": "text/x-python",
   "name": "python",
   "nbconvert_exporter": "python",
   "pygments_lexer": "ipython3",
   "version": "3.6.3"
  }
 },
 "nbformat": 4,
 "nbformat_minor": 2
}

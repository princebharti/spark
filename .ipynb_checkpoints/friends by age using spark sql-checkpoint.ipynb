{
 "cells": [
  {
   "cell_type": "code",
   "execution_count": 1,
   "metadata": {
    "collapsed": true
   },
   "outputs": [],
   "source": [
    "import findspark\n",
    "findspark.init()"
   ]
  },
  {
   "cell_type": "code",
   "execution_count": 2,
   "metadata": {
    "collapsed": true
   },
   "outputs": [],
   "source": [
    "from pyspark.sql import SparkSession\n",
    "from pyspark.sql import Row"
   ]
  },
  {
   "cell_type": "code",
   "execution_count": 3,
   "metadata": {
    "collapsed": true
   },
   "outputs": [],
   "source": [
    "spark=SparkSession.builder.appName('friends by age').getOrCreate()"
   ]
  },
  {
   "cell_type": "code",
   "execution_count": 4,
   "metadata": {
    "collapsed": true
   },
   "outputs": [],
   "source": [
    "sc=spark.sparkContext"
   ]
  },
  {
   "cell_type": "code",
   "execution_count": 5,
   "metadata": {
    "collapsed": true
   },
   "outputs": [],
   "source": [
    "base_rdd=sc.textFile(\"file:///Users/Prince.Bharti/Desktop/data/spark-course/fakefriends.csv.xls\")"
   ]
  },
  {
   "cell_type": "code",
   "execution_count": 6,
   "metadata": {
    "collapsed": true
   },
   "outputs": [],
   "source": [
    "def mapper(line):\n",
    "    li=line.split(',')\n",
    "    return Row(Id=li[0],name=li[1],age=int(li[2]),no_friends=int(li[3]))\n",
    "    "
   ]
  },
  {
   "cell_type": "code",
   "execution_count": 7,
   "metadata": {
    "collapsed": true
   },
   "outputs": [],
   "source": [
    "schema_rdd=base_rdd.map(mapper)"
   ]
  },
  {
   "cell_type": "code",
   "execution_count": 8,
   "metadata": {
    "collapsed": true
   },
   "outputs": [],
   "source": [
    "df=spark.createDataFrame(schema_rdd)"
   ]
  },
  {
   "cell_type": "code",
   "execution_count": 12,
   "metadata": {},
   "outputs": [],
   "source": [
    "result_df=df.groupBy('age').mean('no_friends')"
   ]
  },
  {
   "cell_type": "code",
   "execution_count": 15,
   "metadata": {},
   "outputs": [],
   "source": [
    "result_df=result_df.withColumnRenamed('avg(no_friends)','avg').orderBy('age')"
   ]
  },
  {
   "cell_type": "code",
   "execution_count": 17,
   "metadata": {},
   "outputs": [],
   "source": [
    "result=result_df.collect()"
   ]
  },
  {
   "cell_type": "code",
   "execution_count": 23,
   "metadata": {},
   "outputs": [
    {
     "name": "stdout",
     "output_type": "stream",
     "text": [
      " 18 343.38\n",
      " 19 213.27\n",
      " 20 165.00\n",
      " 21 350.88\n",
      " 22 206.43\n",
      " 23 246.30\n",
      " 24 233.80\n",
      " 25 197.45\n",
      " 26 242.06\n",
      " 27 228.12\n",
      " 28 209.10\n",
      " 29 215.92\n",
      " 30 235.82\n",
      " 31 267.25\n",
      " 32 207.91\n",
      " 33 325.33\n",
      " 34 245.50\n",
      " 35 211.62\n",
      " 36 246.60\n",
      " 37 249.33\n",
      " 38 193.53\n",
      " 39 169.29\n",
      " 40 250.82\n",
      " 41 268.56\n",
      " 42 303.50\n",
      " 43 230.57\n",
      " 44 282.17\n",
      " 45 309.54\n",
      " 46 223.69\n",
      " 47 233.22\n",
      " 48 281.40\n",
      " 49 184.67\n",
      " 50 254.60\n",
      " 51 302.14\n",
      " 52 340.64\n",
      " 53 222.86\n",
      " 54 278.08\n",
      " 55 295.54\n",
      " 56 306.67\n",
      " 57 258.83\n",
      " 58 116.55\n",
      " 59 220.00\n",
      " 60 202.71\n",
      " 61 256.22\n",
      " 62 220.77\n",
      " 63 384.00\n",
      " 64 281.33\n",
      " 65 298.20\n",
      " 66 276.44\n",
      " 67 214.62\n",
      " 68 269.60\n",
      " 69 235.20\n"
     ]
    }
   ],
   "source": [
    "for i in result:\n",
    "    #print(\"{}  {:.2f}\".format(i[0],i[1]))\n",
    "    print(\" %d %.2f\" %(i[0],i[1]))"
   ]
  },
  {
   "cell_type": "code",
   "execution_count": null,
   "metadata": {
    "collapsed": true
   },
   "outputs": [],
   "source": []
  },
  {
   "cell_type": "code",
   "execution_count": null,
   "metadata": {
    "collapsed": true
   },
   "outputs": [],
   "source": []
  }
 ],
 "metadata": {
  "kernelspec": {
   "display_name": "Python 3",
   "language": "python",
   "name": "python3"
  },
  "language_info": {
   "codemirror_mode": {
    "name": "ipython",
    "version": 3
   },
   "file_extension": ".py",
   "mimetype": "text/x-python",
   "name": "python",
   "nbconvert_exporter": "python",
   "pygments_lexer": "ipython3",
   "version": "3.6.3"
  }
 },
 "nbformat": 4,
 "nbformat_minor": 2
}

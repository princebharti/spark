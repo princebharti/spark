{
 "cells": [
  {
   "cell_type": "code",
   "execution_count": 81,
   "metadata": {
    "collapsed": true
   },
   "outputs": [],
   "source": [
    "import findspark\n",
    "findspark.init()"
   ]
  },
  {
   "cell_type": "code",
   "execution_count": 82,
   "metadata": {
    "collapsed": true
   },
   "outputs": [],
   "source": [
    "from pyspark.sql import SparkSession\n",
    "from pyspark.sql import Row"
   ]
  },
  {
   "cell_type": "code",
   "execution_count": 83,
   "metadata": {
    "collapsed": true
   },
   "outputs": [],
   "source": [
    "spark=SparkSession.builder.appName('popular movie').getOrCreate()"
   ]
  },
  {
   "cell_type": "code",
   "execution_count": 84,
   "metadata": {
    "collapsed": true
   },
   "outputs": [],
   "source": [
    "sc=spark.sparkContext"
   ]
  },
  {
   "cell_type": "code",
   "execution_count": 85,
   "metadata": {
    "collapsed": true
   },
   "outputs": [],
   "source": [
    "def mapper(element):\n",
    "    element=element.split('\\t')\n",
    "    return Row(userId=element[0],movieId=element[1],rating=int(element[2]),timestamp=element[3])"
   ]
  },
  {
   "cell_type": "code",
   "execution_count": 86,
   "metadata": {
    "collapsed": true
   },
   "outputs": [],
   "source": [
    "def movieDict():\n",
    "    di=dict()\n",
    "    with open(\"/Users/Prince.Bharti/Desktop/data/spark-course/ml-100k/u.item\",encoding='latin-1') as file:\n",
    "        line=file.readline()\n",
    "        while(len(line)>0):\n",
    "            li=line.split('|')\n",
    "            di[li[0]]=li[1]\n",
    "            line=file.readline()\n",
    "    return di"
   ]
  },
  {
   "cell_type": "code",
   "execution_count": 87,
   "metadata": {
    "collapsed": true
   },
   "outputs": [],
   "source": [
    "base_rdd=sc.textFile(\"file:///Users/Prince.Bharti/Desktop/data/spark-course/ml-100k/u.data\")\n",
    "broadcast_variable=sc.broadcast(movieDict())"
   ]
  },
  {
   "cell_type": "code",
   "execution_count": 88,
   "metadata": {},
   "outputs": [],
   "source": [
    "cleaned_rdd=base_rdd.map(mapper)"
   ]
  },
  {
   "cell_type": "code",
   "execution_count": 89,
   "metadata": {},
   "outputs": [
    {
     "data": {
      "text/plain": [
       "Row(movieId='242', rating=3, timestamp='881250949', userId='196')"
      ]
     },
     "execution_count": 89,
     "metadata": {},
     "output_type": "execute_result"
    }
   ],
   "source": [
    "cleaned_rdd.first()"
   ]
  },
  {
   "cell_type": "code",
   "execution_count": 90,
   "metadata": {},
   "outputs": [],
   "source": [
    "df=spark.createDataFrame(cleaned_rdd)"
   ]
  },
  {
   "cell_type": "code",
   "execution_count": 91,
   "metadata": {},
   "outputs": [],
   "source": [
    "#result=df.groupBy('movieId').sum('rating').orderBy('sum(rating)',ascending=False)\n",
    "result=df.groupBy('movieId').count().orderBy('count',ascending=False)\n",
    "\n"
   ]
  },
  {
   "cell_type": "code",
   "execution_count": 92,
   "metadata": {
    "collapsed": true
   },
   "outputs": [],
   "source": [
    "result=result.collect()"
   ]
  },
  {
   "cell_type": "code",
   "execution_count": 93,
   "metadata": {},
   "outputs": [
    {
     "name": "stdout",
     "output_type": "stream",
     "text": [
      "most popular movie is Star Wars (1977) with total rating of 583\n",
      "most popular movie is Contact (1997) with total rating of 509\n",
      "most popular movie is Fargo (1996) with total rating of 508\n",
      "most popular movie is Return of the Jedi (1983) with total rating of 507\n",
      "most popular movie is Liar Liar (1997) with total rating of 485\n",
      "most popular movie is English Patient, The (1996) with total rating of 481\n",
      "most popular movie is Scream (1996) with total rating of 478\n",
      "most popular movie is Toy Story (1995) with total rating of 452\n",
      "most popular movie is Air Force One (1997) with total rating of 431\n",
      "most popular movie is Independence Day (ID4) (1996) with total rating of 429\n"
     ]
    }
   ],
   "source": [
    "for i in result[:10]:\n",
    "    print('most popular movie is {} with total rating of {}'.format(broadcast_variable.value[i[0]],i[1]))"
   ]
  },
  {
   "cell_type": "code",
   "execution_count": 79,
   "metadata": {
    "collapsed": true
   },
   "outputs": [],
   "source": [
    "spark.stop()"
   ]
  },
  {
   "cell_type": "code",
   "execution_count": null,
   "metadata": {
    "collapsed": true
   },
   "outputs": [],
   "source": []
  }
 ],
 "metadata": {
  "kernelspec": {
   "display_name": "Python 3",
   "language": "python",
   "name": "python3"
  },
  "language_info": {
   "codemirror_mode": {
    "name": "ipython",
    "version": 3
   },
   "file_extension": ".py",
   "mimetype": "text/x-python",
   "name": "python",
   "nbconvert_exporter": "python",
   "pygments_lexer": "ipython3",
   "version": "3.6.3"
  }
 },
 "nbformat": 4,
 "nbformat_minor": 2
}
